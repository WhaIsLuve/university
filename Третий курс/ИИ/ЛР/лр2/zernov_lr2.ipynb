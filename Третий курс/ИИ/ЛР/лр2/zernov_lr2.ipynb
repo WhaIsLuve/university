{
 "cells": [
  {
   "cell_type": "code",
   "execution_count": 30,
   "id": "21c09aae-0d3b-4b4f-aa2c-d025506ab7b2",
   "metadata": {},
   "outputs": [],
   "source": [
    "import pandas as pd"
   ]
  },
  {
   "cell_type": "markdown",
   "id": "6bc65971",
   "metadata": {},
   "source": [
    "### 1. Создайте объект Series, значениями которого являются целые числа от 1 до 5, а индексами - символы a,b,c,d,e"
   ]
  },
  {
   "cell_type": "code",
   "execution_count": 31,
   "id": "1a14ad79-1c5c-4d06-ae68-c1743691ec9c",
   "metadata": {},
   "outputs": [
    {
     "data": {
      "text/plain": [
       "a    1\n",
       "b    2\n",
       "c    3\n",
       "d    4\n",
       "e    5\n",
       "dtype: int64"
      ]
     },
     "execution_count": 31,
     "metadata": {},
     "output_type": "execute_result"
    }
   ],
   "source": [
    "series = pd.Series([1,2,3,4,5], index=['a','b','c','d','e'])\n",
    "series"
   ]
  },
  {
   "cell_type": "markdown",
   "id": "7fbb6876",
   "metadata": {},
   "source": [
    "### 2. С помощью обращения по явному индексу получите значение 4"
   ]
  },
  {
   "cell_type": "code",
   "execution_count": 32,
   "id": "7d88f76a-2dcf-4119-9b36-cddb6565663e",
   "metadata": {},
   "outputs": [
    {
     "data": {
      "text/plain": [
       "4"
      ]
     },
     "execution_count": 32,
     "metadata": {},
     "output_type": "execute_result"
    }
   ],
   "source": [
    "series['d'].item()"
   ]
  },
  {
   "cell_type": "markdown",
   "id": "808cfb69",
   "metadata": {},
   "source": [
    "### 3. С помощью обращения по неявному индексу получите значение 2"
   ]
  },
  {
   "cell_type": "code",
   "execution_count": 33,
   "id": "40503a0c-7693-4fa6-97c3-6b543ba830a7",
   "metadata": {},
   "outputs": [
    {
     "name": "stderr",
     "output_type": "stream",
     "text": [
      "C:\\Users\\Влад\\AppData\\Local\\Temp\\ipykernel_11636\\2104215585.py:1: FutureWarning: Series.__getitem__ treating keys as positions is deprecated. In a future version, integer keys will always be treated as labels (consistent with DataFrame behavior). To access a value by position, use `ser.iloc[pos]`\n",
      "  series[1].item()\n"
     ]
    },
    {
     "data": {
      "text/plain": [
       "2"
      ]
     },
     "execution_count": 33,
     "metadata": {},
     "output_type": "execute_result"
    }
   ],
   "source": [
    "series[1].item()"
   ]
  },
  {
   "cell_type": "markdown",
   "id": "9988467c",
   "metadata": {},
   "source": [
    "Пишется предупреждение, что данный способ устаревший и что лучше использовать свойство iloc"
   ]
  },
  {
   "cell_type": "code",
   "execution_count": 34,
   "id": "20b2b1e4",
   "metadata": {},
   "outputs": [
    {
     "data": {
      "text/plain": [
       "2"
      ]
     },
     "execution_count": 34,
     "metadata": {},
     "output_type": "execute_result"
    }
   ],
   "source": [
    "series.iloc[1].item()"
   ]
  },
  {
   "cell_type": "markdown",
   "id": "3c6f3228",
   "metadata": {},
   "source": [
    "### 4. Добавьте в серию новый элемент."
   ]
  },
  {
   "cell_type": "code",
   "execution_count": 35,
   "id": "47dfcbc7-be32-4b08-a387-378289bfbcaa",
   "metadata": {},
   "outputs": [
    {
     "data": {
      "text/plain": [
       "a    1\n",
       "b    2\n",
       "c    3\n",
       "d    4\n",
       "e    5\n",
       "f    6\n",
       "dtype: object"
      ]
     },
     "execution_count": 35,
     "metadata": {},
     "output_type": "execute_result"
    }
   ],
   "source": [
    "series['f'] = '6'\n",
    "series"
   ]
  },
  {
   "cell_type": "markdown",
   "id": "5ce763b3",
   "metadata": {},
   "source": [
    "### 5. Используя операцию среза, получите значения 3,4,5."
   ]
  },
  {
   "cell_type": "code",
   "execution_count": 36,
   "id": "f2bb8f5f-1d58-471e-8828-068ffe8d70ce",
   "metadata": {},
   "outputs": [
    {
     "data": {
      "text/plain": [
       "c    3\n",
       "d    4\n",
       "e    5\n",
       "dtype: object"
      ]
     },
     "execution_count": 36,
     "metadata": {},
     "output_type": "execute_result"
    }
   ],
   "source": [
    "series[2:5]"
   ]
  },
  {
   "cell_type": "markdown",
   "id": "63ed6b4c",
   "metadata": {},
   "source": [
    "### 6. Создайте DataFrame из списка [[1,2],[5,3],[3.7,4.8]] с именами столбцов col1 и col2"
   ]
  },
  {
   "cell_type": "code",
   "execution_count": 37,
   "id": "ae6e13a4-9b4a-4d28-9adb-071b8f344cc2",
   "metadata": {},
   "outputs": [
    {
     "data": {
      "text/html": [
       "<div>\n",
       "<style scoped>\n",
       "    .dataframe tbody tr th:only-of-type {\n",
       "        vertical-align: middle;\n",
       "    }\n",
       "\n",
       "    .dataframe tbody tr th {\n",
       "        vertical-align: top;\n",
       "    }\n",
       "\n",
       "    .dataframe thead th {\n",
       "        text-align: right;\n",
       "    }\n",
       "</style>\n",
       "<table border=\"1\" class=\"dataframe\">\n",
       "  <thead>\n",
       "    <tr style=\"text-align: right;\">\n",
       "      <th></th>\n",
       "      <th>col1</th>\n",
       "      <th>col2</th>\n",
       "    </tr>\n",
       "  </thead>\n",
       "  <tbody>\n",
       "    <tr>\n",
       "      <th>0</th>\n",
       "      <td>1.0</td>\n",
       "      <td>2.0</td>\n",
       "    </tr>\n",
       "    <tr>\n",
       "      <th>1</th>\n",
       "      <td>5.0</td>\n",
       "      <td>3.0</td>\n",
       "    </tr>\n",
       "    <tr>\n",
       "      <th>2</th>\n",
       "      <td>3.7</td>\n",
       "      <td>4.8</td>\n",
       "    </tr>\n",
       "  </tbody>\n",
       "</table>\n",
       "</div>"
      ],
      "text/plain": [
       "   col1  col2\n",
       "0   1.0   2.0\n",
       "1   5.0   3.0\n",
       "2   3.7   4.8"
      ]
     },
     "execution_count": 37,
     "metadata": {},
     "output_type": "execute_result"
    }
   ],
   "source": [
    "origin = pd.DataFrame([[1,2],[5,3],[3.7,4.8]], columns=['col1','col2'])\n",
    "origin"
   ]
  },
  {
   "cell_type": "markdown",
   "id": "45b92abe",
   "metadata": {},
   "source": [
    "### 7. используя операцию идексации получите элемент 3.7"
   ]
  },
  {
   "cell_type": "code",
   "execution_count": 38,
   "id": "07dcf969-ef6a-4eb6-9c9b-972ca2f0ac7e",
   "metadata": {},
   "outputs": [
    {
     "data": {
      "text/plain": [
       "3.7"
      ]
     },
     "execution_count": 38,
     "metadata": {},
     "output_type": "execute_result"
    }
   ],
   "source": [
    "el = origin['col1'][2] \n",
    "el.item()"
   ]
  },
  {
   "cell_type": "markdown",
   "id": "87863c07",
   "metadata": {},
   "source": [
    "### 8. Измените элемент 3 на 9"
   ]
  },
  {
   "cell_type": "code",
   "execution_count": 39,
   "id": "f325f332-242c-42d9-972c-df1bad634572",
   "metadata": {},
   "outputs": [
    {
     "data": {
      "text/html": [
       "<div>\n",
       "<style scoped>\n",
       "    .dataframe tbody tr th:only-of-type {\n",
       "        vertical-align: middle;\n",
       "    }\n",
       "\n",
       "    .dataframe tbody tr th {\n",
       "        vertical-align: top;\n",
       "    }\n",
       "\n",
       "    .dataframe thead th {\n",
       "        text-align: right;\n",
       "    }\n",
       "</style>\n",
       "<table border=\"1\" class=\"dataframe\">\n",
       "  <thead>\n",
       "    <tr style=\"text-align: right;\">\n",
       "      <th></th>\n",
       "      <th>col1</th>\n",
       "      <th>col2</th>\n",
       "    </tr>\n",
       "  </thead>\n",
       "  <tbody>\n",
       "    <tr>\n",
       "      <th>0</th>\n",
       "      <td>1.0</td>\n",
       "      <td>2.0</td>\n",
       "    </tr>\n",
       "    <tr>\n",
       "      <th>1</th>\n",
       "      <td>5.0</td>\n",
       "      <td>9.0</td>\n",
       "    </tr>\n",
       "    <tr>\n",
       "      <th>2</th>\n",
       "      <td>3.7</td>\n",
       "      <td>4.8</td>\n",
       "    </tr>\n",
       "  </tbody>\n",
       "</table>\n",
       "</div>"
      ],
      "text/plain": [
       "   col1  col2\n",
       "0   1.0   2.0\n",
       "1   5.0   9.0\n",
       "2   3.7   4.8"
      ]
     },
     "execution_count": 39,
     "metadata": {},
     "output_type": "execute_result"
    }
   ],
   "source": [
    "origin.loc[1,'col2'] = 9\n",
    "origin"
   ]
  },
  {
   "cell_type": "markdown",
   "id": "b2b171d8",
   "metadata": {},
   "source": [
    "### 9. Используя операцию среза, получите строки с индексами 1 и два"
   ]
  },
  {
   "cell_type": "code",
   "execution_count": 40,
   "id": "dc63d1c3-465c-4a56-8a9f-5de8135ca10d",
   "metadata": {},
   "outputs": [
    {
     "data": {
      "text/html": [
       "<div>\n",
       "<style scoped>\n",
       "    .dataframe tbody tr th:only-of-type {\n",
       "        vertical-align: middle;\n",
       "    }\n",
       "\n",
       "    .dataframe tbody tr th {\n",
       "        vertical-align: top;\n",
       "    }\n",
       "\n",
       "    .dataframe thead th {\n",
       "        text-align: right;\n",
       "    }\n",
       "</style>\n",
       "<table border=\"1\" class=\"dataframe\">\n",
       "  <thead>\n",
       "    <tr style=\"text-align: right;\">\n",
       "      <th></th>\n",
       "      <th>col1</th>\n",
       "      <th>col2</th>\n",
       "    </tr>\n",
       "  </thead>\n",
       "  <tbody>\n",
       "    <tr>\n",
       "      <th>1</th>\n",
       "      <td>5.0</td>\n",
       "      <td>9.0</td>\n",
       "    </tr>\n",
       "    <tr>\n",
       "      <th>2</th>\n",
       "      <td>3.7</td>\n",
       "      <td>4.8</td>\n",
       "    </tr>\n",
       "  </tbody>\n",
       "</table>\n",
       "</div>"
      ],
      "text/plain": [
       "   col1  col2\n",
       "1   5.0   9.0\n",
       "2   3.7   4.8"
      ]
     },
     "execution_count": 40,
     "metadata": {},
     "output_type": "execute_result"
    }
   ],
   "source": [
    "origin.iloc[1:3]"
   ]
  },
  {
   "cell_type": "markdown",
   "id": "dd2e27c2",
   "metadata": {},
   "source": [
    "### 10. Добавьте столбец col3, значния которого - результат поэлементного перемножения col1 и col2."
   ]
  },
  {
   "cell_type": "code",
   "execution_count": 41,
   "id": "343cb44a-6f91-48c3-8e54-ae51c6f1e6fa",
   "metadata": {},
   "outputs": [
    {
     "data": {
      "text/html": [
       "<div>\n",
       "<style scoped>\n",
       "    .dataframe tbody tr th:only-of-type {\n",
       "        vertical-align: middle;\n",
       "    }\n",
       "\n",
       "    .dataframe tbody tr th {\n",
       "        vertical-align: top;\n",
       "    }\n",
       "\n",
       "    .dataframe thead th {\n",
       "        text-align: right;\n",
       "    }\n",
       "</style>\n",
       "<table border=\"1\" class=\"dataframe\">\n",
       "  <thead>\n",
       "    <tr style=\"text-align: right;\">\n",
       "      <th></th>\n",
       "      <th>col1</th>\n",
       "      <th>col2</th>\n",
       "      <th>col3</th>\n",
       "    </tr>\n",
       "  </thead>\n",
       "  <tbody>\n",
       "    <tr>\n",
       "      <th>0</th>\n",
       "      <td>1.0</td>\n",
       "      <td>2.0</td>\n",
       "      <td>2.00</td>\n",
       "    </tr>\n",
       "    <tr>\n",
       "      <th>1</th>\n",
       "      <td>5.0</td>\n",
       "      <td>9.0</td>\n",
       "      <td>45.00</td>\n",
       "    </tr>\n",
       "    <tr>\n",
       "      <th>2</th>\n",
       "      <td>3.7</td>\n",
       "      <td>4.8</td>\n",
       "      <td>17.76</td>\n",
       "    </tr>\n",
       "  </tbody>\n",
       "</table>\n",
       "</div>"
      ],
      "text/plain": [
       "   col1  col2   col3\n",
       "0   1.0   2.0   2.00\n",
       "1   5.0   9.0  45.00\n",
       "2   3.7   4.8  17.76"
      ]
     },
     "execution_count": 41,
     "metadata": {},
     "output_type": "execute_result"
    }
   ],
   "source": [
    "origin['col3']=origin['col1']*origin['col2']\n",
    "origin"
   ]
  }
 ],
 "metadata": {
  "kernelspec": {
   "display_name": "Python 3",
   "language": "python",
   "name": "python3"
  },
  "language_info": {
   "codemirror_mode": {
    "name": "ipython",
    "version": 3
   },
   "file_extension": ".py",
   "mimetype": "text/x-python",
   "name": "python",
   "nbconvert_exporter": "python",
   "pygments_lexer": "ipython3",
   "version": "3.12.1"
  }
 },
 "nbformat": 4,
 "nbformat_minor": 5
}
