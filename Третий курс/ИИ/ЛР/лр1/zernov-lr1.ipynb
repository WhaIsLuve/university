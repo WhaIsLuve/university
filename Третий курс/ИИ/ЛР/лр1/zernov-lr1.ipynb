{
 "cells": [
  {
   "cell_type": "code",
   "execution_count": 3,
   "id": "40ec39c7-da25-4bbb-ae46-2b7b309bb284",
   "metadata": {},
   "outputs": [],
   "source": [
    "import numpy as np"
   ]
  },
  {
   "cell_type": "markdown",
   "id": "07d5fe41-ad91-4505-bcd5-274c6b8ba1e1",
   "metadata": {},
   "source": [
    "### 1. Создайте массив arr_1 размером 3x4, все элементы которого равны 3."
   ]
  },
  {
   "cell_type": "code",
   "execution_count": 5,
   "id": "19ffd0fc-10bb-4f26-8307-f1606cf1c1de",
   "metadata": {},
   "outputs": [
    {
     "data": {
      "text/plain": [
       "array([[3, 3, 3, 3],\n",
       "       [3, 3, 3, 3],\n",
       "       [3, 3, 3, 3]])"
      ]
     },
     "execution_count": 5,
     "metadata": {},
     "output_type": "execute_result"
    }
   ],
   "source": [
    "arr_1 = np.full((3, 4), 3)\n",
    "arr_1"
   ]
  },
  {
   "cell_type": "markdown",
   "id": "6da8ce46-0289-48f8-873e-e6da0ea543f0",
   "metadata": {},
   "source": [
    "### 2. Создайте массив arr_2, заполненный случайными целыми числами от 0 до 9, размером 2х4."
   ]
  },
  {
   "cell_type": "code",
   "execution_count": 6,
   "id": "e493a7cf-8c16-41fc-8e9d-76bba013f434",
   "metadata": {},
   "outputs": [
    {
     "data": {
      "text/plain": [
       "array([[6, 5, 3, 4],\n",
       "       [0, 2, 0, 4]], dtype=int32)"
      ]
     },
     "execution_count": 6,
     "metadata": {},
     "output_type": "execute_result"
    }
   ],
   "source": [
    "arr_2 = np.random.randint(0, 9, (2, 4))\n",
    "arr_2"
   ]
  },
  {
   "cell_type": "markdown",
   "id": "530ea557-96e9-4d3a-8026-54837698fed1",
   "metadata": {},
   "source": [
    "### 3. Выведите на экран количество элементов в созданных массивах arr_1 и arr_2."
   ]
  },
  {
   "cell_type": "code",
   "execution_count": 12,
   "id": "14282480-4bff-4382-84d5-caca488eb9ea",
   "metadata": {},
   "outputs": [
    {
     "name": "stdout",
     "output_type": "stream",
     "text": [
      "arr_1 = 12\n",
      "arr_2 = 8\n"
     ]
    }
   ],
   "source": [
    "print(f\"arr_1 = {arr_1.size}\\narr_2 = {arr_2.size}\")"
   ]
  },
  {
   "cell_type": "markdown",
   "id": "7fbc6599-dd65-40e1-b376-fc11d1f1579e",
   "metadata": {},
   "source": [
    "### 4. Соедините массивы arr_1 и arr_2 по нулевой оси."
   ]
  },
  {
   "cell_type": "code",
   "execution_count": 13,
   "id": "c1632bfb-0c42-4c5e-9078-cb34afbc8d4b",
   "metadata": {},
   "outputs": [
    {
     "data": {
      "text/plain": [
       "array([[3, 3, 3, 3],\n",
       "       [3, 3, 3, 3],\n",
       "       [3, 3, 3, 3],\n",
       "       [6, 5, 3, 4],\n",
       "       [0, 2, 0, 4]])"
      ]
     },
     "execution_count": 13,
     "metadata": {},
     "output_type": "execute_result"
    }
   ],
   "source": [
    "np.concatenate([arr_1, arr_2])"
   ]
  },
  {
   "cell_type": "markdown",
   "id": "8631bc40-d70e-4801-8496-86ffe49090e7",
   "metadata": {},
   "source": [
    "### 5. Создайте массив arr_3 из кортежа чисел (1, 8, 6, 5, 8, 3) с помощью функции np.array()"
   ]
  },
  {
   "cell_type": "code",
   "execution_count": 14,
   "id": "051a4d99-7ba5-4bec-afec-a2e5f5394634",
   "metadata": {},
   "outputs": [
    {
     "data": {
      "text/plain": [
       "array([1, 8, 6, 5, 8, 3])"
      ]
     },
     "execution_count": 14,
     "metadata": {},
     "output_type": "execute_result"
    }
   ],
   "source": [
    "arr_3 = np.array((1, 8, 6, 5, 8, 3))\n",
    "arr_3"
   ]
  },
  {
   "cell_type": "markdown",
   "id": "f2b3853f-0573-43b9-a380-ad1fea3dc6c7",
   "metadata": {},
   "source": [
    "### 6. Умножьте каждый элемент массива arr_3 на число 3 и прибавьте к каждому элементу 1. Результат запишите в новый массив arr_4."
   ]
  },
  {
   "cell_type": "code",
   "execution_count": 15,
   "id": "1be6aa8c-d317-4817-9792-2bd5932aac52",
   "metadata": {},
   "outputs": [
    {
     "data": {
      "text/plain": [
       "array([ 4, 25, 19, 16, 25, 10])"
      ]
     },
     "execution_count": 15,
     "metadata": {},
     "output_type": "execute_result"
    }
   ],
   "source": [
    "arr_4 = (arr_3 * 3) + 1\n",
    "arr_4"
   ]
  },
  {
   "cell_type": "markdown",
   "id": "cd3cf1ce-a727-4956-b4d9-542eea43656f",
   "metadata": {},
   "source": [
    "### 7. Преобразуйте масиив arr_3 к двумерному массиву 2х3. Результат запишите в массив arr_5."
   ]
  },
  {
   "cell_type": "code",
   "execution_count": 16,
   "id": "e14de59c-193c-479a-92eb-4f28d11a0b30",
   "metadata": {},
   "outputs": [
    {
     "data": {
      "text/plain": [
       "array([[1, 8, 6],\n",
       "       [5, 8, 3]])"
      ]
     },
     "execution_count": 16,
     "metadata": {},
     "output_type": "execute_result"
    }
   ],
   "source": [
    "arr_5 = arr_3.reshape(2, 3)\n",
    "arr_5"
   ]
  },
  {
   "cell_type": "markdown",
   "id": "ac1ae1bb-2ce4-45e0-8856-96f7031df7b4",
   "metadata": {},
   "source": [
    "### 8. Определите минимальные элементы массива arr_5 вдоль первой оси"
   ]
  },
  {
   "cell_type": "code",
   "execution_count": 17,
   "id": "33bd4a5a-5320-4b64-94af-ade83a1402d0",
   "metadata": {},
   "outputs": [
    {
     "data": {
      "text/plain": [
       "array([1, 3])"
      ]
     },
     "execution_count": 17,
     "metadata": {},
     "output_type": "execute_result"
    }
   ],
   "source": [
    "np.min(arr_5, axis=1)"
   ]
  },
  {
   "cell_type": "markdown",
   "id": "d3f66ed6-b9ce-453a-baed-75cb390882a1",
   "metadata": {},
   "source": [
    "### 9. Вычислите среднее арифметическое всех элементов массива arr_5."
   ]
  },
  {
   "cell_type": "code",
   "execution_count": 18,
   "id": "22b477b3-ac29-4d7c-adb2-2ebd94dd2e42",
   "metadata": {},
   "outputs": [
    {
     "data": {
      "text/plain": [
       "np.float64(5.166666666666667)"
      ]
     },
     "execution_count": 18,
     "metadata": {},
     "output_type": "execute_result"
    }
   ],
   "source": [
    "np.average(arr_5)"
   ]
  },
  {
   "cell_type": "markdown",
   "id": "3aec8a6c-f18a-4bcb-bbbc-170ac433955d",
   "metadata": {},
   "source": [
    "### 10. Создайте массив arr_6, состоящий из квадратов чисел от 0 до 10."
   ]
  },
  {
   "cell_type": "code",
   "execution_count": 21,
   "id": "e219ce0b-40d3-44ca-9095-75b6791be86e",
   "metadata": {},
   "outputs": [
    {
     "data": {
      "text/plain": [
       "array([  0,   1,   4,   9,  16,  25,  36,  49,  64,  81, 100])"
      ]
     },
     "execution_count": 21,
     "metadata": {},
     "output_type": "execute_result"
    }
   ],
   "source": [
    "arr_6 = np.square(np.arange(0, 11))\n",
    "arr_6"
   ]
  },
  {
   "cell_type": "markdown",
   "id": "e3d3adaf-421d-4223-9457-529ea75a4f37",
   "metadata": {},
   "source": [
    "### 11. Выведите каждый второй элемент массива arr_6."
   ]
  },
  {
   "cell_type": "code",
   "execution_count": 22,
   "id": "e9bb01b2-5ae6-4195-a10c-ae0bd93c6562",
   "metadata": {},
   "outputs": [
    {
     "data": {
      "text/plain": [
       "array([  0,   4,  16,  36,  64, 100])"
      ]
     },
     "execution_count": 22,
     "metadata": {},
     "output_type": "execute_result"
    }
   ],
   "source": [
    "arr_6[::2]"
   ]
  },
  {
   "cell_type": "markdown",
   "id": "f2f61871-06cb-49a0-9481-e65faa28019e",
   "metadata": {},
   "source": [
    "### 12. Выведите элементы массива arr_6 в обратном порядке."
   ]
  },
  {
   "cell_type": "code",
   "execution_count": 23,
   "id": "f5f697f1-88ac-4263-b583-305c8587c717",
   "metadata": {},
   "outputs": [
    {
     "data": {
      "text/plain": [
       "array([100,  81,  64,  49,  36,  25,  16,   9,   4,   1,   0])"
      ]
     },
     "execution_count": 23,
     "metadata": {},
     "output_type": "execute_result"
    }
   ],
   "source": [
    "arr_6[::-1]"
   ]
  },
  {
   "cell_type": "markdown",
   "id": "e2b906ad-25d4-4e39-9d29-29303568db19",
   "metadata": {},
   "source": [
    "### 13. Каждому второму элементу массива arr_6 присвойте значение 2."
   ]
  },
  {
   "cell_type": "code",
   "execution_count": 26,
   "id": "9550e13b-8fd1-41d5-90d7-1bf527808dfe",
   "metadata": {},
   "outputs": [
    {
     "data": {
      "text/plain": [
       "array([  0,   2,   4,   2,  16,   2,  36,   2,  64,   2, 100])"
      ]
     },
     "execution_count": 26,
     "metadata": {},
     "output_type": "execute_result"
    }
   ],
   "source": [
    "arr_6[1::2] = 2\n",
    "arr_6"
   ]
  },
  {
   "cell_type": "markdown",
   "id": "d378c889-27c4-41ff-8d7d-2f488b86521d",
   "metadata": {},
   "source": [
    "### 14. Проверьте, есть ли в массиве arr_6 значение 49"
   ]
  },
  {
   "cell_type": "code",
   "execution_count": 27,
   "id": "d5c4280d-d3ab-4439-a3fb-badd2bce8eaf",
   "metadata": {},
   "outputs": [
    {
     "data": {
      "text/plain": [
       "np.False_"
      ]
     },
     "execution_count": 27,
     "metadata": {},
     "output_type": "execute_result"
    }
   ],
   "source": [
    "np.any(arr_6 == 49)"
   ]
  },
  {
   "cell_type": "markdown",
   "id": "ea41acbf-61be-4e64-a063-c5d37af175a4",
   "metadata": {},
   "source": [
    "### 15. Создайте двумерный массив А, состоящий из положительных и отрицательных чисел. Из массива A выберите все отрицательные элементы и запишите их в одномерный массив B"
   ]
  },
  {
   "cell_type": "code",
   "execution_count": 33,
   "id": "ed400376-df8a-4e07-b332-c101d276b0fe",
   "metadata": {},
   "outputs": [
    {
     "name": "stdout",
     "output_type": "stream",
     "text": [
      "A:  [[  1  -6  -9  -1  -7]\n",
      " [ -9   4   7   8 -10]\n",
      " [ -9   8   5  -7  -8]\n",
      " [  9   6   8  -6   3]\n",
      " [  0   9  -8  -6  -6]]\n",
      "B:  [ -6  -9  -1  -7  -9 -10  -9  -7  -8  -6  -8  -6  -6]\n"
     ]
    }
   ],
   "source": [
    "A = np.random.randint(-10, 10, size=(5, 5))\n",
    "print(\"A: \", A)\n",
    "B = A[A < 0]\n",
    "print(\"B: \", B)"
   ]
  }
 ],
 "metadata": {
  "kernelspec": {
   "display_name": "Python 3",
   "language": "python",
   "name": "python3"
  },
  "language_info": {
   "codemirror_mode": {
    "name": "ipython",
    "version": 3
   },
   "file_extension": ".py",
   "mimetype": "text/x-python",
   "name": "python",
   "nbconvert_exporter": "python",
   "pygments_lexer": "ipython3",
   "version": "3.12.1"
  }
 },
 "nbformat": 4,
 "nbformat_minor": 5
}
