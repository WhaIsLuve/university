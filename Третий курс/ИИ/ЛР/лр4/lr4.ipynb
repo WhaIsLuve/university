{
 "cells": [
  {
   "cell_type": "code",
   "execution_count": 109,
   "metadata": {},
   "outputs": [
    {
     "data": {
      "text/html": [
       "<div>\n",
       "<style scoped>\n",
       "    .dataframe tbody tr th:only-of-type {\n",
       "        vertical-align: middle;\n",
       "    }\n",
       "\n",
       "    .dataframe tbody tr th {\n",
       "        vertical-align: top;\n",
       "    }\n",
       "\n",
       "    .dataframe thead th {\n",
       "        text-align: right;\n",
       "    }\n",
       "</style>\n",
       "<table border=\"1\" class=\"dataframe\">\n",
       "  <thead>\n",
       "    <tr style=\"text-align: right;\">\n",
       "      <th></th>\n",
       "      <th>idx</th>\n",
       "      <th>year</th>\n",
       "      <th>month</th>\n",
       "      <th>day</th>\n",
       "      <th>min_t</th>\n",
       "      <th>average_t</th>\n",
       "      <th>max_t</th>\n",
       "      <th>rainfall</th>\n",
       "    </tr>\n",
       "  </thead>\n",
       "  <tbody>\n",
       "    <tr>\n",
       "      <th>0</th>\n",
       "      <td>29838</td>\n",
       "      <td>1960</td>\n",
       "      <td>1</td>\n",
       "      <td>1</td>\n",
       "      <td>-6.9</td>\n",
       "      <td>-5.4</td>\n",
       "      <td>-3.8</td>\n",
       "      <td>0.1</td>\n",
       "    </tr>\n",
       "    <tr>\n",
       "      <th>1</th>\n",
       "      <td>29838</td>\n",
       "      <td>1960</td>\n",
       "      <td>1</td>\n",
       "      <td>2</td>\n",
       "      <td>-14.4</td>\n",
       "      <td>-10.0</td>\n",
       "      <td>-6.7</td>\n",
       "      <td>0.5</td>\n",
       "    </tr>\n",
       "    <tr>\n",
       "      <th>2</th>\n",
       "      <td>29838</td>\n",
       "      <td>1960</td>\n",
       "      <td>1</td>\n",
       "      <td>3</td>\n",
       "      <td>-21.7</td>\n",
       "      <td>-19.7</td>\n",
       "      <td>-13.4</td>\n",
       "      <td>0.0</td>\n",
       "    </tr>\n",
       "    <tr>\n",
       "      <th>3</th>\n",
       "      <td>29838</td>\n",
       "      <td>1960</td>\n",
       "      <td>1</td>\n",
       "      <td>4</td>\n",
       "      <td>-24.9</td>\n",
       "      <td>-21.4</td>\n",
       "      <td>-16.9</td>\n",
       "      <td>0.0</td>\n",
       "    </tr>\n",
       "    <tr>\n",
       "      <th>4</th>\n",
       "      <td>29838</td>\n",
       "      <td>1960</td>\n",
       "      <td>1</td>\n",
       "      <td>5</td>\n",
       "      <td>-18.3</td>\n",
       "      <td>-8.0</td>\n",
       "      <td>-3.3</td>\n",
       "      <td>4.1</td>\n",
       "    </tr>\n",
       "  </tbody>\n",
       "</table>\n",
       "</div>"
      ],
      "text/plain": [
       "     idx  year  month  day  min_t average_t  max_t rainfall\n",
       "0  29838  1960      1    1   -6.9      -5.4   -3.8      0.1\n",
       "1  29838  1960      1    2  -14.4     -10.0   -6.7      0.5\n",
       "2  29838  1960      1    3  -21.7     -19.7  -13.4      0.0\n",
       "3  29838  1960      1    4  -24.9     -21.4  -16.9      0.0\n",
       "4  29838  1960      1    5  -18.3      -8.0   -3.3      4.1"
      ]
     },
     "execution_count": 109,
     "metadata": {},
     "output_type": "execute_result"
    }
   ],
   "source": [
    "import pandas as pd\n",
    "import matplotlib.pyplot as plt\n",
    "from datetime import datetime\n",
    "from clickhouse_driver import Client\n",
    "\n",
    "client = Client(host='oleg.orbita.work',port=9000,user='student_ml',password='CGRV8zemLGgsfdz7Uc6ZJeisGTcPQa',settings={'use_numpy': True})\n",
    "data = pd.DataFrame(client.execute(\"SELECT * FROM students_datas.weather_history\"), columns=[\n",
    "    'idx', 'year', 'month', 'day', 'min_t', 'average_t', 'max_t', 'rainfall'])\n",
    "client.disconnect()\n",
    "data.head()\n"
   ]
  },
  {
   "cell_type": "markdown",
   "metadata": {},
   "source": [
    "#### 2. Удалите столбец idx"
   ]
  },
  {
   "cell_type": "code",
   "execution_count": 110,
   "metadata": {},
   "outputs": [
    {
     "data": {
      "text/html": [
       "<div>\n",
       "<style scoped>\n",
       "    .dataframe tbody tr th:only-of-type {\n",
       "        vertical-align: middle;\n",
       "    }\n",
       "\n",
       "    .dataframe tbody tr th {\n",
       "        vertical-align: top;\n",
       "    }\n",
       "\n",
       "    .dataframe thead th {\n",
       "        text-align: right;\n",
       "    }\n",
       "</style>\n",
       "<table border=\"1\" class=\"dataframe\">\n",
       "  <thead>\n",
       "    <tr style=\"text-align: right;\">\n",
       "      <th></th>\n",
       "      <th>year</th>\n",
       "      <th>month</th>\n",
       "      <th>day</th>\n",
       "      <th>min_t</th>\n",
       "      <th>average_t</th>\n",
       "      <th>max_t</th>\n",
       "      <th>rainfall</th>\n",
       "    </tr>\n",
       "  </thead>\n",
       "  <tbody>\n",
       "    <tr>\n",
       "      <th>0</th>\n",
       "      <td>1960</td>\n",
       "      <td>1</td>\n",
       "      <td>1</td>\n",
       "      <td>-6.9</td>\n",
       "      <td>-5.4</td>\n",
       "      <td>-3.8</td>\n",
       "      <td>0.1</td>\n",
       "    </tr>\n",
       "    <tr>\n",
       "      <th>1</th>\n",
       "      <td>1960</td>\n",
       "      <td>1</td>\n",
       "      <td>2</td>\n",
       "      <td>-14.4</td>\n",
       "      <td>-10.0</td>\n",
       "      <td>-6.7</td>\n",
       "      <td>0.5</td>\n",
       "    </tr>\n",
       "    <tr>\n",
       "      <th>2</th>\n",
       "      <td>1960</td>\n",
       "      <td>1</td>\n",
       "      <td>3</td>\n",
       "      <td>-21.7</td>\n",
       "      <td>-19.7</td>\n",
       "      <td>-13.4</td>\n",
       "      <td>0.0</td>\n",
       "    </tr>\n",
       "    <tr>\n",
       "      <th>3</th>\n",
       "      <td>1960</td>\n",
       "      <td>1</td>\n",
       "      <td>4</td>\n",
       "      <td>-24.9</td>\n",
       "      <td>-21.4</td>\n",
       "      <td>-16.9</td>\n",
       "      <td>0.0</td>\n",
       "    </tr>\n",
       "    <tr>\n",
       "      <th>4</th>\n",
       "      <td>1960</td>\n",
       "      <td>1</td>\n",
       "      <td>5</td>\n",
       "      <td>-18.3</td>\n",
       "      <td>-8.0</td>\n",
       "      <td>-3.3</td>\n",
       "      <td>4.1</td>\n",
       "    </tr>\n",
       "  </tbody>\n",
       "</table>\n",
       "</div>"
      ],
      "text/plain": [
       "   year  month  day  min_t average_t  max_t rainfall\n",
       "0  1960      1    1   -6.9      -5.4   -3.8      0.1\n",
       "1  1960      1    2  -14.4     -10.0   -6.7      0.5\n",
       "2  1960      1    3  -21.7     -19.7  -13.4      0.0\n",
       "3  1960      1    4  -24.9     -21.4  -16.9      0.0\n",
       "4  1960      1    5  -18.3      -8.0   -3.3      4.1"
      ]
     },
     "execution_count": 110,
     "metadata": {},
     "output_type": "execute_result"
    }
   ],
   "source": [
    "\n",
    "data.drop('idx', axis=1, inplace=True)\n",
    "data.head()\n"
   ]
  },
  {
   "cell_type": "markdown",
   "metadata": {},
   "source": [
    "#### 3. Используя метод info(), oтветьте на вопросы:"
   ]
  },
  {
   "cell_type": "code",
   "execution_count": 111,
   "metadata": {},
   "outputs": [
    {
     "name": "stdout",
     "output_type": "stream",
     "text": [
      "Информация о данных\n",
      "<class 'pandas.core.frame.DataFrame'>\n",
      "RangeIndex: 22281 entries, 0 to 22280\n",
      "Data columns (total 7 columns):\n",
      " #   Column     Non-Null Count  Dtype \n",
      "---  ------     --------------  ----- \n",
      " 0   year       22281 non-null  int64 \n",
      " 1   month      22281 non-null  int64 \n",
      " 2   day        22281 non-null  int64 \n",
      " 3   min_t      22052 non-null  object\n",
      " 4   average_t  22062 non-null  object\n",
      " 5   max_t      22070 non-null  object\n",
      " 6   rainfall   22051 non-null  object\n",
      "dtypes: int64(3), object(4)\n",
      "memory usage: 1.2+ MB\n"
     ]
    }
   ],
   "source": [
    "print(\"Информация о данных\")\n",
    "data.info()"
   ]
  },
  {
   "cell_type": "markdown",
   "metadata": {},
   "source": [
    "#### 3.1.  Есть ли в данных пропущенные значения?"
   ]
  },
  {
   "cell_type": "code",
   "execution_count": 112,
   "metadata": {},
   "outputs": [
    {
     "data": {
      "text/plain": [
       "year           0\n",
       "month          0\n",
       "day            0\n",
       "min_t        229\n",
       "average_t    219\n",
       "max_t        211\n",
       "rainfall     230\n",
       "dtype: int64"
      ]
     },
     "execution_count": 112,
     "metadata": {},
     "output_type": "execute_result"
    }
   ],
   "source": [
    "missing_values = data.isnull().sum()\n",
    "missing_values"
   ]
  },
  {
   "cell_type": "markdown",
   "metadata": {},
   "source": [
    "Да, пропущенные значения есть.\n",
    "\n",
    "#### 3.2. В каком столбце данных больше всего пропущенных значений?"
   ]
  },
  {
   "cell_type": "code",
   "execution_count": 113,
   "metadata": {},
   "outputs": [
    {
     "name": "stdout",
     "output_type": "stream",
     "text": [
      "rainfall: 230 пропущенных значений\n"
     ]
    }
   ],
   "source": [
    "max_missing_column_name = missing_values.idxmax()\n",
    "print(f\"{max_missing_column_name}: {missing_values[max_missing_column_name]} пропущенных значений\")"
   ]
  },
  {
   "cell_type": "markdown",
   "metadata": {},
   "source": [
    "#### 4. В данных за какой год больше всего пропусков?"
   ]
  },
  {
   "cell_type": "code",
   "execution_count": 114,
   "metadata": {},
   "outputs": [
    {
     "name": "stdout",
     "output_type": "stream",
     "text": [
      "В 1986 году 21 пропуск\n"
     ]
    }
   ],
   "source": [
    "data_without_year = data.drop('year', axis=1)\n",
    "data['missing_count'] = data_without_year.isnull().sum(axis=1)\n",
    "\n",
    "missing_by_year = data.groupby('year')['missing_count'].sum()\n",
    "max_missing_year = missing_by_year.idxmax()\n",
    "max_missing_count = missing_by_year[max_missing_year]\n",
    "\n",
    "print(f\"В {max_missing_year} году {max_missing_count} пропуск\")"
   ]
  },
  {
   "cell_type": "markdown",
   "metadata": {},
   "source": [
    "#### 5. Объедините столбцы «Год», «Месяц» и «День» в один столбец «Дата» в формате гггг-мм-дд (2000-01-20). Данные в новом cтолбце должны иметь формат datetime;\n"
   ]
  },
  {
   "cell_type": "code",
   "execution_count": 115,
   "metadata": {},
   "outputs": [
    {
     "name": "stdout",
     "output_type": "stream",
     "text": [
      "   year  month  day  min_t average_t  max_t rainfall  missing_count   datetime\n",
      "0  1960      1    1   -6.9      -5.4   -3.8      0.1              0 1960-01-01\n",
      "1  1960      1    2  -14.4     -10.0   -6.7      0.5              0 1960-01-02\n",
      "2  1960      1    3  -21.7     -19.7  -13.4      0.0              0 1960-01-03\n",
      "3  1960      1    4  -24.9     -21.4  -16.9      0.0              0 1960-01-04\n",
      "4  1960      1    5  -18.3      -8.0   -3.3      4.1              0 1960-01-05\n"
     ]
    }
   ],
   "source": [
    "data['datetime'] = pd.to_datetime(data[['year', 'month', 'day']])\n",
    "print(data.head())\n"
   ]
  },
  {
   "cell_type": "markdown",
   "metadata": {},
   "source": [
    "#### 6. Для каждого наблюдения рассчитайте размах температур (разность максимальной и минимальной суточных температур) и количество предшествующих ему дней без осадков (используйте циклы Python и условный оператор):\n"
   ]
  },
  {
   "cell_type": "code",
   "execution_count": 116,
   "metadata": {},
   "outputs": [
    {
     "name": "stdout",
     "output_type": "stream",
     "text": [
      "Столбец с разностью максимальной и минимальной температур:\n",
      "0     3.1\n",
      "1     7.7\n",
      "2     8.3\n",
      "3     8.0\n",
      "4    15.0\n",
      "Name: temp_range, dtype: float64\n",
      "\n",
      "Столбец с расчетом дней без осадков:\n"
     ]
    },
    {
     "data": {
      "text/plain": [
       "0    0\n",
       "1    0\n",
       "2    1\n",
       "3    2\n",
       "4    0\n",
       "Name: dry_days, dtype: int64"
      ]
     },
     "execution_count": 116,
     "metadata": {},
     "output_type": "execute_result"
    }
   ],
   "source": [
    "data['min_t'] = pd.to_numeric(data['min_t'], errors='coerce')\n",
    "data['max_t'] = pd.to_numeric(data['max_t'], errors='coerce')\n",
    "data['average_t'] = pd.to_numeric(data['average_t'], errors='coerce')\n",
    "data['rainfall'] = pd.to_numeric(data['rainfall'], errors='coerce')\n",
    "\n",
    "data['temp_range'] = data['max_t'] - data['min_t']\n",
    "print(\"Столбец с разностью максимальной и минимальной температур:\")\n",
    "print(data['temp_range'].head())\n",
    "\n",
    "data['dry_days'] = 0\n",
    "for i in range(1, len(data)):\n",
    "    if data.loc[i, 'rainfall'] == 0:\n",
    "        data.loc[i, 'dry_days'] = data.loc[i-1, 'dry_days'] + 1\n",
    "\n",
    "print(\"\\nСтолбец с расчетом дней без осадков:\")\n",
    "data['dry_days'].head()\n"
   ]
  },
  {
   "cell_type": "markdown",
   "metadata": {},
   "source": [
    "#### 7. Определите самый длинный период засухи."
   ]
  },
  {
   "cell_type": "code",
   "execution_count": 117,
   "metadata": {},
   "outputs": [
    {
     "name": "stdout",
     "output_type": "stream",
     "text": [
      "Самый длинный период засухи: 27 дней\n"
     ]
    }
   ],
   "source": [
    "max_dry = data['dry_days'].max()\n",
    "print(f\"Самый длинный период засухи: {max_dry} дней\")"
   ]
  },
  {
   "cell_type": "markdown",
   "metadata": {},
   "source": [
    "#### 8. Для каждого года вычислите среднегодовую температуру и общее количество осадков. Запишите результаты в объекты Series"
   ]
  },
  {
   "cell_type": "code",
   "execution_count": 118,
   "metadata": {},
   "outputs": [
    {
     "name": "stdout",
     "output_type": "stream",
     "text": [
      "Переменная year_avg_temp является объектом типа: <class 'pandas.core.series.Series'>\n",
      "Переменная year_total_rainfall является объектом типа: <class 'pandas.core.series.Series'>\n",
      "Среднегодовая температура:\n",
      "year\n",
      "1960   -0.122740\n",
      "1961    2.351524\n",
      "1962    3.173130\n",
      "1963    3.522626\n",
      "1964    2.291160\n",
      "Name: average_t, dtype: float64\n",
      "Общее кол-во осадков по годам:\n",
      "year\n",
      "1960    458.7\n",
      "1961    517.4\n",
      "1962    367.5\n",
      "1963    430.3\n",
      "1964    424.4\n",
      "Name: rainfall, dtype: float64\n"
     ]
    }
   ],
   "source": [
    "year_avg_temp = data.groupby('year')['average_t'].mean()\n",
    "print(f\"Переменная year_avg_temp является объектом типа: {type(year_avg_temp)}\")\n",
    "year_total_rainfall = data.groupby('year')['rainfall'].sum()\n",
    "print(f\"Переменная year_total_rainfall является объектом типа: {type(year_total_rainfall)}\")\n",
    "\n",
    "print(\"Среднегодовая температура:\")\n",
    "print(year_avg_temp.head())\n",
    "print(\"Общее кол-во осадков по годам:\")\n",
    "print(year_total_rainfall.head())\n"
   ]
  },
  {
   "cell_type": "markdown",
   "metadata": {},
   "source": [
    "#### 8.1. Какой год можно считать самым теплым? Какой самым холодным?"
   ]
  },
  {
   "cell_type": "code",
   "execution_count": 119,
   "metadata": {},
   "outputs": [
    {
     "name": "stdout",
     "output_type": "stream",
     "text": [
      "Самый теплый год: 2020 \n",
      "Средняя температура в теплом году: 4.8\n",
      "Самый холодный год: 1969 \n",
      "Средняя температура в холодном году: -0.6\n"
     ]
    },
    {
     "data": {
      "image/png": "[encoded data removed]",
      "text/plain": [
       "<Figure size 3000x900 with 1 Axes>"
      ]
     },
     "metadata": {},
     "output_type": "display_data"
    }
   ],
   "source": [
    "heat_year = year_avg_temp.idxmax()\n",
    "cold_year = year_avg_temp.idxmin()\n",
    "print(f\"Самый теплый год: {heat_year} \\nСредняя температура в теплом году: {year_avg_temp[heat_year]:.1f}\")\n",
    "print(f\"Самый холодный год: {cold_year} \\nСредняя температура в холодном году: {year_avg_temp[cold_year]:.1f}\")\n",
    "\n",
    "plt.figure(figsize=(30, 9))\n",
    "\n",
    "plt.subplot(1, 2, 1)\n",
    "year_avg_temp.plot(title='Среднегодовая температура', marker='o', color='orange')\n",
    "plt.xlabel('Год')\n",
    "plt.ylabel('Температура')\n",
    "plt.grid(True)\n",
    "\n",
    "plt.tight_layout()\n",
    "plt.show()\n"
   ]
  },
  {
   "cell_type": "markdown",
   "metadata": {},
   "source": [
    "#### 8.2. В какой год выпало больше всего осадков? В какой меньше всего? Используя запись имя_серии.plot() вы можете построить график и посмотреть как изменялась температура. С помощью имя_серии. .plot.bar() можно отобразить на столбиковой диаграмме количество осадков, выпавших в каждый год"
   ]
  },
  {
   "cell_type": "code",
   "execution_count": 120,
   "metadata": {},
   "outputs": [
    {
     "name": "stdout",
     "output_type": "stream",
     "text": [
      "Год с наибольшими осадками: 1970 - 560.2\n",
      "Год с наименьшими осадками: 1973 - 258.0\n"
     ]
    },
    {
     "data": {
      "image/png": "[encoded data removed]",
      "text/plain": [
       "<Figure size 3000x800 with 1 Axes>"
      ]
     },
     "metadata": {},
     "output_type": "display_data"
    }
   ],
   "source": [
    "wettest_year = year_total_rainfall.idxmax()\n",
    "driest_year = year_total_rainfall.idxmin()\n",
    "print(f\"Год с наибольшими осадками: {wettest_year} - {year_total_rainfall[wettest_year]:.1f}\")\n",
    "print(f\"Год с наименьшими осадками: {driest_year} - {year_total_rainfall[driest_year]:.1f}\")\n",
    "\n",
    "plt.figure(figsize=(30, 8))\n",
    "\n",
    "plt.subplot(1, 2, 2)\n",
    "year_total_rainfall.plot.bar(title='Кол-во осадков за каждый год', color='green')\n",
    "plt.xlabel('Год')\n",
    "plt.ylabel('Осадки')\n",
    "plt.xticks(rotation=45)\n",
    "\n",
    "plt.tight_layout()\n",
    "plt.show()"
   ]
  },
  {
   "cell_type": "markdown",
   "metadata": {},
   "source": [
    "#### 9.1. Средняя температура воздуха ниже -30."
   ]
  },
  {
   "cell_type": "code",
   "execution_count": 121,
   "metadata": {},
   "outputs": [
    {
     "data": {
      "text/html": [
       "<div>\n",
       "<style scoped>\n",
       "    .dataframe tbody tr th:only-of-type {\n",
       "        vertical-align: middle;\n",
       "    }\n",
       "\n",
       "    .dataframe tbody tr th {\n",
       "        vertical-align: top;\n",
       "    }\n",
       "\n",
       "    .dataframe thead th {\n",
       "        text-align: right;\n",
       "    }\n",
       "</style>\n",
       "<table border=\"1\" class=\"dataframe\">\n",
       "  <thead>\n",
       "    <tr style=\"text-align: right;\">\n",
       "      <th></th>\n",
       "      <th>datetime</th>\n",
       "      <th>average_t</th>\n",
       "    </tr>\n",
       "  </thead>\n",
       "  <tbody>\n",
       "    <tr>\n",
       "      <th>17</th>\n",
       "      <td>1960-01-18</td>\n",
       "      <td>-31.2</td>\n",
       "    </tr>\n",
       "    <tr>\n",
       "      <th>18</th>\n",
       "      <td>1960-01-19</td>\n",
       "      <td>-33.2</td>\n",
       "    </tr>\n",
       "    <tr>\n",
       "      <th>323</th>\n",
       "      <td>1960-11-19</td>\n",
       "      <td>-30.1</td>\n",
       "    </tr>\n",
       "    <tr>\n",
       "      <th>361</th>\n",
       "      <td>1960-12-27</td>\n",
       "      <td>-30.2</td>\n",
       "    </tr>\n",
       "    <tr>\n",
       "      <th>373</th>\n",
       "      <td>1961-01-08</td>\n",
       "      <td>-34.5</td>\n",
       "    </tr>\n",
       "    <tr>\n",
       "      <th>...</th>\n",
       "      <td>...</td>\n",
       "      <td>...</td>\n",
       "    </tr>\n",
       "    <tr>\n",
       "      <th>21585</th>\n",
       "      <td>2019-02-05</td>\n",
       "      <td>-32.0</td>\n",
       "    </tr>\n",
       "    <tr>\n",
       "      <th>21588</th>\n",
       "      <td>2019-02-08</td>\n",
       "      <td>-32.8</td>\n",
       "    </tr>\n",
       "    <tr>\n",
       "      <th>22275</th>\n",
       "      <td>2020-12-26</td>\n",
       "      <td>-31.6</td>\n",
       "    </tr>\n",
       "    <tr>\n",
       "      <th>22276</th>\n",
       "      <td>2020-12-27</td>\n",
       "      <td>-36.3</td>\n",
       "    </tr>\n",
       "    <tr>\n",
       "      <th>22277</th>\n",
       "      <td>2020-12-28</td>\n",
       "      <td>-34.2</td>\n",
       "    </tr>\n",
       "  </tbody>\n",
       "</table>\n",
       "<p>241 rows × 2 columns</p>\n",
       "</div>"
      ],
      "text/plain": [
       "        datetime  average_t\n",
       "17    1960-01-18      -31.2\n",
       "18    1960-01-19      -33.2\n",
       "323   1960-11-19      -30.1\n",
       "361   1960-12-27      -30.2\n",
       "373   1961-01-08      -34.5\n",
       "...          ...        ...\n",
       "21585 2019-02-05      -32.0\n",
       "21588 2019-02-08      -32.8\n",
       "22275 2020-12-26      -31.6\n",
       "22276 2020-12-27      -36.3\n",
       "22277 2020-12-28      -34.2\n",
       "\n",
       "[241 rows x 2 columns]"
      ]
     },
     "execution_count": 121,
     "metadata": {},
     "output_type": "execute_result"
    }
   ],
   "source": [
    "cold_days = data[data['average_t'] < -30]\n",
    "\n",
    "cold_days[['datetime', 'average_t']]\n"
   ]
  },
  {
   "cell_type": "markdown",
   "metadata": {},
   "source": [
    "#### 9.2.Средняя температура воздуха выше 27 и количество дней без осадков больше 3."
   ]
  },
  {
   "cell_type": "code",
   "execution_count": 122,
   "metadata": {},
   "outputs": [
    {
     "data": {
      "text/html": [
       "<div>\n",
       "<style scoped>\n",
       "    .dataframe tbody tr th:only-of-type {\n",
       "        vertical-align: middle;\n",
       "    }\n",
       "\n",
       "    .dataframe tbody tr th {\n",
       "        vertical-align: top;\n",
       "    }\n",
       "\n",
       "    .dataframe thead th {\n",
       "        text-align: right;\n",
       "    }\n",
       "</style>\n",
       "<table border=\"1\" class=\"dataframe\">\n",
       "  <thead>\n",
       "    <tr style=\"text-align: right;\">\n",
       "      <th></th>\n",
       "      <th>datetime</th>\n",
       "      <th>average_t</th>\n",
       "      <th>dry_days</th>\n",
       "    </tr>\n",
       "  </thead>\n",
       "  <tbody>\n",
       "    <tr>\n",
       "      <th>1270</th>\n",
       "      <td>1963-06-24</td>\n",
       "      <td>27.4</td>\n",
       "      <td>9</td>\n",
       "    </tr>\n",
       "    <tr>\n",
       "      <th>2029</th>\n",
       "      <td>1965-07-22</td>\n",
       "      <td>27.3</td>\n",
       "      <td>10</td>\n",
       "    </tr>\n",
       "    <tr>\n",
       "      <th>3471</th>\n",
       "      <td>1969-07-03</td>\n",
       "      <td>27.1</td>\n",
       "      <td>5</td>\n",
       "    </tr>\n",
       "    <tr>\n",
       "      <th>3472</th>\n",
       "      <td>1969-07-04</td>\n",
       "      <td>28.9</td>\n",
       "      <td>6</td>\n",
       "    </tr>\n",
       "    <tr>\n",
       "      <th>3473</th>\n",
       "      <td>1969-07-05</td>\n",
       "      <td>27.9</td>\n",
       "      <td>7</td>\n",
       "    </tr>\n",
       "    <tr>\n",
       "      <th>5305</th>\n",
       "      <td>1974-07-11</td>\n",
       "      <td>27.8</td>\n",
       "      <td>19</td>\n",
       "    </tr>\n",
       "    <tr>\n",
       "      <th>6381</th>\n",
       "      <td>1977-06-21</td>\n",
       "      <td>27.2</td>\n",
       "      <td>25</td>\n",
       "    </tr>\n",
       "    <tr>\n",
       "      <th>8601</th>\n",
       "      <td>1983-07-20</td>\n",
       "      <td>27.2</td>\n",
       "      <td>7</td>\n",
       "    </tr>\n",
       "    <tr>\n",
       "      <th>10395</th>\n",
       "      <td>1988-06-17</td>\n",
       "      <td>28.3</td>\n",
       "      <td>7</td>\n",
       "    </tr>\n",
       "    <tr>\n",
       "      <th>11884</th>\n",
       "      <td>1992-07-15</td>\n",
       "      <td>28.0</td>\n",
       "      <td>7</td>\n",
       "    </tr>\n",
       "    <tr>\n",
       "      <th>15563</th>\n",
       "      <td>2002-08-11</td>\n",
       "      <td>28.5</td>\n",
       "      <td>10</td>\n",
       "    </tr>\n",
       "  </tbody>\n",
       "</table>\n",
       "</div>"
      ],
      "text/plain": [
       "        datetime  average_t  dry_days\n",
       "1270  1963-06-24       27.4         9\n",
       "2029  1965-07-22       27.3        10\n",
       "3471  1969-07-03       27.1         5\n",
       "3472  1969-07-04       28.9         6\n",
       "3473  1969-07-05       27.9         7\n",
       "5305  1974-07-11       27.8        19\n",
       "6381  1977-06-21       27.2        25\n",
       "8601  1983-07-20       27.2         7\n",
       "10395 1988-06-17       28.3         7\n",
       "11884 1992-07-15       28.0         7\n",
       "15563 2002-08-11       28.5        10"
      ]
     },
     "execution_count": 122,
     "metadata": {},
     "output_type": "execute_result"
    }
   ],
   "source": [
    "hot_dry_days = data[(data['average_t'] > 27) & (data['dry_days'] > 3)]\n",
    "hot_dry_days[['datetime', 'average_t', 'dry_days']]"
   ]
  }
 ],
 "metadata": {
  "kernelspec": {
   "display_name": "venv",
   "language": "python",
   "name": "python3"
  },
  "language_info": {
   "codemirror_mode": {
    "name": "ipython",
    "version": 3
   },
   "file_extension": ".py",
   "mimetype": "text/x-python",
   "name": "python",
   "nbconvert_exporter": "python",
   "pygments_lexer": "ipython3",
   "version": "3.12.1"
  }
 },
 "nbformat": 4,
 "nbformat_minor": 4
}
